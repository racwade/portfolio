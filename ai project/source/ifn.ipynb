{
 "cells": [
  {
   "cell_type": "code",
   "execution_count": 1,
   "metadata": {
    "collapsed": false
   },
   "outputs": [],
   "source": [
    "import scipy as sp\n",
    "import numpy as np\n",
    "import skfuzzy as fuzz"
   ]
  },
  {
   "cell_type": "code",
   "execution_count": 2,
   "metadata": {
    "collapsed": true
   },
   "outputs": [],
   "source": [
    "min_classification = 0.8 #Probability for how much fuzzy membership an item needs in order to be classified as that class\n",
    "min_truth = 0.97 #Probability for how much truth a node needs to be deemed a true predictor.\n",
    "def truth_function(value):\n",
    "    #truth function; varies per example\n",
    "    #in this example, we're looking for good wine (quality >= 7)\n",
    "    if(value >= 7):\n",
    "        return 1\n",
    "    else:\n",
    "        return 0"
   ]
  },
  {
   "cell_type": "code",
   "execution_count": 3,
   "metadata": {
    "collapsed": true
   },
   "outputs": [],
   "source": [
    "def best_means(data,minmeans,maxmeans):\n",
    "    #Calculates the best mean centers for the data clusters, based on fpc (fuzzy partition coefficient)\n",
    "    final_fpc = 0\n",
    "    for i in range(minmeans,maxmeans):\n",
    "        cntr, u, u0, d, jm, p, fpc = fuzz.cluster.cmeans(data, i, 2, error=0.005, maxiter=1000)\n",
    "        if(fpc > final_fpc):\n",
    "            final_cntr = cntr\n",
    "            final_u = u\n",
    "            final_fpc = fpc\n",
    "    return(final_cntr,final_u,final_fpc)"
   ]
  },
  {
   "cell_type": "code",
   "execution_count": 4,
   "metadata": {
    "collapsed": false
   },
   "outputs": [],
   "source": [
    "#Load in our test data, and split it arbitrarily into training and test data.\n",
    "file = np.genfromtxt(\"wq.csv\", delimiter=',')\n",
    "parameters_train = file[:999,0:10]\n",
    "parameters_test = file[1000:,0:10]\n",
    "target_train = file[:999,11]\n",
    "target_test = file[1000:,11]"
   ]
  },
  {
   "cell_type": "code",
   "execution_count": 5,
   "metadata": {
    "collapsed": false
   },
   "outputs": [],
   "source": [
    "#Fuzzify both our data sets.\n",
    "centers = []\n",
    "groups = []\n",
    "fuzzydata = []\n",
    "fpcs = []\n",
    "fuzzydata_test = []\n",
    "for j in range(0,10):\n",
    "    cntr, u, fpc = best_means(np.array(parameters_train[:,j],ndmin=2).astype(float),2,10)\n",
    "    centers.append(cntr)\n",
    "    fuzzydata.append(u)\n",
    "    groups.append(len(u))\n",
    "    fpcs.append(fpc)\n",
    "for k in range(0,10):\n",
    "    u,u0,d,jm,p,fpc = fuzz.cluster.cmeans_predict(np.array(parameters_test[:,k],ndmin=2).astype(float),centers[k],2, error=0.005, maxiter=1000)\n",
    "    fuzzydata_test.append(u)"
   ]
  },
  {
   "cell_type": "code",
   "execution_count": 6,
   "metadata": {
    "collapsed": true
   },
   "outputs": [],
   "source": [
    "\n",
    "def generate_tree(elements, attribute, rem_attributes, last_prediction, cursor):\n",
    "    #Generates a tree containing text elements.\n",
    "    #elements: list of element indexes\n",
    "    #attribute: index of the current attribute we're looking at\n",
    "    #rem_attributes: list of all attribute indexes that haven't been used\n",
    "    #last_prediction: stored value of what we last predicted\n",
    "    #cursor: where we currently are in the array\n",
    "    next_attribute = -1\n",
    "    nodes = []\n",
    "    if(len(rem_attributes) > 0):\n",
    "        #as long as we have more attributes to test on, grab the best one\n",
    "        rem_fpcs = []\n",
    "        for index in rem_attributes:\n",
    "            rem_fpcs.append(fpcs[index])\n",
    "        best_new_attribute_value = max(rem_fpcs)\n",
    "        next_attribute = fpcs.index(best_new_attribute_value)\n",
    "        rem_attributes.remove(next_attribute)\n",
    "        \n",
    "    num_groups = groups[attribute] #number of groups we need to create things for\n",
    "    for i in range(0,num_groups):\n",
    "        group_elems = []\n",
    "        for e in elements:\n",
    "            if(fuzzydata[attribute][i][e] > min_classification):\n",
    "                group_elems.append(e)\n",
    "        #appended all relevant elements. now...\n",
    "        if(len(group_elems) == 0):\n",
    "            #this group was empty. use the last prediction.\n",
    "            cmd_tree.insert(cursor+i,last_prediction)\n",
    "            continue\n",
    "        truth = 0\n",
    "        for e in elements:\n",
    "            truth = truth + truth_function(target_train[e])\n",
    "        truth = truth / len(elements)\n",
    "        output = \"0\"\n",
    "        if(truth > 0.5):\n",
    "            output = \"1\"\n",
    "        if(truth > min_truth or 1 - truth > min_truth or next_attribute == -1):\n",
    "            #Category was statistically significant.\n",
    "            #OR\n",
    "            #Category was not significant, but no more attributes.\n",
    "            cmd_tree.insert(cursor+i,output)\n",
    "            continue\n",
    "        else:\n",
    "            #Push these values back. We'll deal with them in time.\n",
    "            #We have to solve the regular nodes first.\n",
    "            cmd_tree.insert(cursor+i,\"PLACEHOLDER\")\n",
    "            nodes.append((i,list(group_elems),next_attribute,list(rem_attributes),output,cursor))\n",
    "    for n in nodes:\n",
    "        i,group_elems,next_attribute,rem_attributes,output,curs = n\n",
    "        cmd_tree[curs+i] = (str(len(cmd_tree)) + \",\" + str(next_attribute))\n",
    "        generate_tree(group_elems,next_attribute,rem_attributes,output,len(cmd_tree))\n",
    "    return"
   ]
  },
  {
   "cell_type": "code",
   "execution_count": 7,
   "metadata": {
    "collapsed": false
   },
   "outputs": [],
   "source": [
    "cmd_tree = []\n",
    "attrs = list(range(0,10))\n",
    "elems = list(range(0,len(target_train)))\n",
    "rem_fpcs = []\n",
    "for index in attrs:\n",
    "    rem_fpcs.append(fpcs[index])\n",
    "best_new_attribute_value = max(rem_fpcs)\n",
    "start_attribute = rem_fpcs.index(best_new_attribute_value)\n",
    "attrs.remove(start_attribute)\n",
    "generate_tree(elems, start_attribute, attrs, \"ERROR\",0)"
   ]
  },
  {
   "cell_type": "code",
   "execution_count": 8,
   "metadata": {
    "collapsed": false
   },
   "outputs": [],
   "source": [
    "def predict(e_index):\n",
    "    cursor = 0\n",
    "    attr = start_attribute\n",
    "    while(True):\n",
    "        grouping = []\n",
    "        for i in range(0,groups[attr]):\n",
    "            grouping.append(fuzzydata_test[attr][i][e_index])\n",
    "        best_group = max(grouping)\n",
    "        b_g_index = list(grouping).index(best_group)\n",
    "        command = cmd_tree[cursor+b_g_index]\n",
    "        if ',' in command:\n",
    "            commands = command.split(\",\")\n",
    "            cursor = int(commands[0])\n",
    "            attr = int(commands[1])\n",
    "            continue\n",
    "        else:\n",
    "            return int(command)\n",
    "\n",
    "def actual(e_index):\n",
    "    return truth_function(target_test[e_index])"
   ]
  },
  {
   "cell_type": "code",
   "execution_count": 9,
   "metadata": {
    "collapsed": false
   },
   "outputs": [
    {
     "name": "stdout",
     "output_type": "stream",
     "text": [
      "Prediction accuracy: 0.8330550918196995\n"
     ]
    }
   ],
   "source": [
    "correct = 0\n",
    "for i in range(0,len(target_test)):\n",
    "    if(predict(i) == actual(i)):\n",
    "        correct = correct + 1\n",
    "print(\"Prediction accuracy: \" + str(correct/len(target_test)))"
   ]
  },
  {
   "cell_type": "code",
   "execution_count": null,
   "metadata": {
    "collapsed": true
   },
   "outputs": [],
   "source": []
  }
 ],
 "metadata": {
  "anaconda-cloud": {},
  "kernelspec": {
   "display_name": "Python [default]",
   "language": "python",
   "name": "python3"
  },
  "language_info": {
   "codemirror_mode": {
    "name": "ipython",
    "version": 3
   },
   "file_extension": ".py",
   "mimetype": "text/x-python",
   "name": "python",
   "nbconvert_exporter": "python",
   "pygments_lexer": "ipython3",
   "version": "3.5.2"
  }
 },
 "nbformat": 4,
 "nbformat_minor": 1
}
